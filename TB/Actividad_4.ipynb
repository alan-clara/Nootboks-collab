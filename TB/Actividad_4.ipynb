{
  "cells": [
    {
      "cell_type": "markdown",
      "metadata": {
        "id": "view-in-github",
        "colab_type": "text"
      },
      "source": [
        "<a href=\"https://colab.research.google.com/github/alan-clara/Nootboks-collab/blob/main/TB/Actividad_4.ipynb\" target=\"_parent\"><img src=\"https://colab.research.google.com/assets/colab-badge.svg\" alt=\"Open In Colab\"/></a>"
      ]
    },
    {
      "cell_type": "code",
      "execution_count": null,
      "metadata": {
        "id": "UP5mlnwOy9x2"
      },
      "outputs": [],
      "source": [
        "!pip install -q streamlit"
      ]
    },
    {
      "cell_type": "code",
      "execution_count": null,
      "metadata": {
        "colab": {
          "base_uri": "https://localhost:8080/"
        },
        "id": "N1K3Y_dCzEYO",
        "outputId": "1df845ff-9329-4eb1-95f4-2e2b9ee98d6b"
      },
      "outputs": [
        {
          "name": "stderr",
          "output_type": "stream",
          "text": [
            "2024-09-27 15:18:40.175 Thread 'MainThread': missing ScriptRunContext! This warning can be ignored when running in bare mode.\n",
            "2024-09-27 15:18:40.178 Thread 'MainThread': missing ScriptRunContext! This warning can be ignored when running in bare mode.\n",
            "2024-09-27 15:18:40.182 Thread 'MainThread': missing ScriptRunContext! This warning can be ignored when running in bare mode.\n",
            "2024-09-27 15:18:40.185 Thread 'MainThread': missing ScriptRunContext! This warning can be ignored when running in bare mode.\n",
            "2024-09-27 15:18:40.187 Thread 'MainThread': missing ScriptRunContext! This warning can be ignored when running in bare mode.\n",
            "2024-09-27 15:18:40.190 Thread 'MainThread': missing ScriptRunContext! This warning can be ignored when running in bare mode.\n",
            "2024-09-27 15:18:40.194 Thread 'MainThread': missing ScriptRunContext! This warning can be ignored when running in bare mode.\n",
            "2024-09-27 15:18:40.196 Thread 'MainThread': missing ScriptRunContext! This warning can be ignored when running in bare mode.\n",
            "2024-09-27 15:18:40.198 Thread 'MainThread': missing ScriptRunContext! This warning can be ignored when running in bare mode.\n",
            "2024-09-27 15:18:40.201 Thread 'MainThread': missing ScriptRunContext! This warning can be ignored when running in bare mode.\n",
            "2024-09-27 15:18:40.203 Thread 'MainThread': missing ScriptRunContext! This warning can be ignored when running in bare mode.\n",
            "2024-09-27 15:18:40.207 Thread 'MainThread': missing ScriptRunContext! This warning can be ignored when running in bare mode.\n",
            "2024-09-27 15:18:40.209 Thread 'MainThread': missing ScriptRunContext! This warning can be ignored when running in bare mode.\n",
            "2024-09-27 15:18:40.210 Thread 'MainThread': missing ScriptRunContext! This warning can be ignored when running in bare mode.\n",
            "2024-09-27 15:18:40.212 Thread 'MainThread': missing ScriptRunContext! This warning can be ignored when running in bare mode.\n",
            "2024-09-27 15:18:40.215 Thread 'MainThread': missing ScriptRunContext! This warning can be ignored when running in bare mode.\n",
            "2024-09-27 15:18:40.216 Thread 'MainThread': missing ScriptRunContext! This warning can be ignored when running in bare mode.\n",
            "2024-09-27 15:18:40.218 Thread 'MainThread': missing ScriptRunContext! This warning can be ignored when running in bare mode.\n",
            "2024-09-27 15:18:40.222 Thread 'MainThread': missing ScriptRunContext! This warning can be ignored when running in bare mode.\n",
            "2024-09-27 15:18:40.223 Thread 'MainThread': missing ScriptRunContext! This warning can be ignored when running in bare mode.\n",
            "2024-09-27 15:18:40.226 Thread 'MainThread': missing ScriptRunContext! This warning can be ignored when running in bare mode.\n",
            "2024-09-27 15:18:40.228 Thread 'MainThread': missing ScriptRunContext! This warning can be ignored when running in bare mode.\n",
            "2024-09-27 15:18:40.229 Thread 'MainThread': missing ScriptRunContext! This warning can be ignored when running in bare mode.\n",
            "2024-09-27 15:18:40.231 Thread 'MainThread': missing ScriptRunContext! This warning can be ignored when running in bare mode.\n",
            "2024-09-27 15:18:40.234 Thread 'MainThread': missing ScriptRunContext! This warning can be ignored when running in bare mode.\n",
            "2024-09-27 15:18:40.236 Thread 'MainThread': missing ScriptRunContext! This warning can be ignored when running in bare mode.\n",
            "2024-09-27 15:18:40.238 Thread 'MainThread': missing ScriptRunContext! This warning can be ignored when running in bare mode.\n",
            "2024-09-27 15:18:40.241 Thread 'MainThread': missing ScriptRunContext! This warning can be ignored when running in bare mode.\n",
            "2024-09-27 15:18:40.244 Thread 'MainThread': missing ScriptRunContext! This warning can be ignored when running in bare mode.\n",
            "2024-09-27 15:18:40.246 Thread 'MainThread': missing ScriptRunContext! This warning can be ignored when running in bare mode.\n",
            "2024-09-27 15:18:40.250 Thread 'MainThread': missing ScriptRunContext! This warning can be ignored when running in bare mode.\n",
            "2024-09-27 15:18:40.251 Thread 'MainThread': missing ScriptRunContext! This warning can be ignored when running in bare mode.\n",
            "2024-09-27 15:18:40.253 Thread 'MainThread': missing ScriptRunContext! This warning can be ignored when running in bare mode.\n",
            "2024-09-27 15:18:40.257 Thread 'MainThread': missing ScriptRunContext! This warning can be ignored when running in bare mode.\n",
            "2024-09-27 15:18:40.259 Thread 'MainThread': missing ScriptRunContext! This warning can be ignored when running in bare mode.\n",
            "2024-09-27 15:18:40.263 Thread 'MainThread': missing ScriptRunContext! This warning can be ignored when running in bare mode.\n",
            "2024-09-27 15:18:40.264 Thread 'MainThread': missing ScriptRunContext! This warning can be ignored when running in bare mode.\n",
            "2024-09-27 15:18:40.268 Thread 'MainThread': missing ScriptRunContext! This warning can be ignored when running in bare mode.\n",
            "2024-09-27 15:18:40.269 Thread 'MainThread': missing ScriptRunContext! This warning can be ignored when running in bare mode.\n",
            "2024-09-27 15:18:40.273 Thread 'MainThread': missing ScriptRunContext! This warning can be ignored when running in bare mode.\n",
            "2024-09-27 15:18:40.274 Thread 'MainThread': missing ScriptRunContext! This warning can be ignored when running in bare mode.\n",
            "2024-09-27 15:18:40.278 Thread 'MainThread': missing ScriptRunContext! This warning can be ignored when running in bare mode.\n",
            "2024-09-27 15:18:40.279 Thread 'MainThread': missing ScriptRunContext! This warning can be ignored when running in bare mode.\n",
            "2024-09-27 15:18:40.283 Thread 'MainThread': missing ScriptRunContext! This warning can be ignored when running in bare mode.\n",
            "2024-09-27 15:18:40.285 Thread 'MainThread': missing ScriptRunContext! This warning can be ignored when running in bare mode.\n",
            "2024-09-27 15:18:40.287 Thread 'MainThread': missing ScriptRunContext! This warning can be ignored when running in bare mode.\n",
            "2024-09-27 15:18:40.291 Thread 'MainThread': missing ScriptRunContext! This warning can be ignored when running in bare mode.\n",
            "2024-09-27 15:18:40.294 Thread 'MainThread': missing ScriptRunContext! This warning can be ignored when running in bare mode.\n",
            "2024-09-27 15:18:40.296 Thread 'MainThread': missing ScriptRunContext! This warning can be ignored when running in bare mode.\n",
            "2024-09-27 15:18:40.297 Thread 'MainThread': missing ScriptRunContext! This warning can be ignored when running in bare mode.\n",
            "2024-09-27 15:18:40.303 Thread 'MainThread': missing ScriptRunContext! This warning can be ignored when running in bare mode.\n",
            "2024-09-27 15:18:40.304 Thread 'MainThread': missing ScriptRunContext! This warning can be ignored when running in bare mode.\n",
            "2024-09-27 15:18:40.308 Thread 'MainThread': missing ScriptRunContext! This warning can be ignored when running in bare mode.\n",
            "2024-09-27 15:18:40.309 Thread 'MainThread': missing ScriptRunContext! This warning can be ignored when running in bare mode.\n",
            "2024-09-27 15:18:40.311 Thread 'MainThread': missing ScriptRunContext! This warning can be ignored when running in bare mode.\n",
            "2024-09-27 15:18:40.314 Thread 'MainThread': missing ScriptRunContext! This warning can be ignored when running in bare mode.\n",
            "2024-09-27 15:18:40.317 Thread 'MainThread': missing ScriptRunContext! This warning can be ignored when running in bare mode.\n",
            "2024-09-27 15:18:40.320 Thread 'MainThread': missing ScriptRunContext! This warning can be ignored when running in bare mode.\n",
            "2024-09-27 15:18:40.321 Thread 'MainThread': missing ScriptRunContext! This warning can be ignored when running in bare mode.\n",
            "2024-09-27 15:18:40.325 Thread 'MainThread': missing ScriptRunContext! This warning can be ignored when running in bare mode.\n",
            "2024-09-27 15:18:40.327 Thread 'MainThread': missing ScriptRunContext! This warning can be ignored when running in bare mode.\n",
            "2024-09-27 15:18:40.328 Thread 'MainThread': missing ScriptRunContext! This warning can be ignored when running in bare mode.\n",
            "2024-09-27 15:18:40.330 Thread 'MainThread': missing ScriptRunContext! This warning can be ignored when running in bare mode.\n",
            "2024-09-27 15:18:40.333 Thread 'MainThread': missing ScriptRunContext! This warning can be ignored when running in bare mode.\n",
            "2024-09-27 15:18:40.334 Thread 'MainThread': missing ScriptRunContext! This warning can be ignored when running in bare mode.\n",
            "2024-09-27 15:18:40.337 Thread 'MainThread': missing ScriptRunContext! This warning can be ignored when running in bare mode.\n",
            "2024-09-27 15:18:40.338 Thread 'MainThread': missing ScriptRunContext! This warning can be ignored when running in bare mode.\n",
            "2024-09-27 15:18:40.342 Thread 'MainThread': missing ScriptRunContext! This warning can be ignored when running in bare mode.\n",
            "2024-09-27 15:18:40.343 Thread 'MainThread': missing ScriptRunContext! This warning can be ignored when running in bare mode.\n",
            "2024-09-27 15:18:40.345 Thread 'MainThread': missing ScriptRunContext! This warning can be ignored when running in bare mode.\n"
          ]
        }
      ],
      "source": [
        "import streamlit as st\n",
        "\n",
        "class User:\n",
        "    def __init__(self, name, age, shift, gender, work):\n",
        "        self.shift = shift\n",
        "        self.gender = self.encrypt(gender)\n",
        "        self.work = self.encrypt(work)\n",
        "        self.name = self.encrypt(name)\n",
        "        self.age = self.encrypt(str(age))\n",
        "\n",
        "    def encrypt(self, text):\n",
        "        encrypted = ''\n",
        "        for char in text:\n",
        "            if char.isalpha():\n",
        "                shift = self.shift\n",
        "                if char.islower():\n",
        "                    encrypted += chr((ord(char) - 97 + shift) % 26 + 97)\n",
        "                else:\n",
        "                    encrypted += chr((ord(char) - 65 + shift) % 26 + 65)\n",
        "            elif char.isdigit():\n",
        "                encrypted += chr((ord(char) - 48 + self.shift) % 10 + 48)\n",
        "            else:\n",
        "                encrypted += char\n",
        "        return encrypted\n",
        "\n",
        "    def decrypt(self, text):\n",
        "        decrypted = ''\n",
        "        for char in text:\n",
        "            if char.isalpha():\n",
        "                shift = self.shift\n",
        "                if char.islower():\n",
        "                    decrypted += chr((ord(char) - 97 - shift) % 26 + 97)\n",
        "                else:\n",
        "                    decrypted += chr((ord(char) - 65 - shift) % 26 + 65)\n",
        "            elif char.isdigit():\n",
        "                decrypted += chr((ord(char) - 48 - shift) % 10 + 48)\n",
        "            else:\n",
        "                decrypted += char\n",
        "        return decrypted\n",
        "\n",
        "    def display_decrypted(self):\n",
        "        return f\"Name: {self.decrypt(self.name)}, Age: {self.decrypt(self.age)}, Work: {self.decrypt(self.work)}, Gender: {self.decrypt(self.gender)}\"\n",
        "\n",
        "\n",
        "\n",
        "class CRUDSystem:\n",
        "    def __init__(self, shift):\n",
        "        self.users = []\n",
        "        self.shift = shift\n",
        "\n",
        "    def create_user(self, name, age, gender, work):\n",
        "        user = User(name, age, self.shift, gender, work)\n",
        "        self.users.append(user)\n",
        "\n",
        "    def read_users(self):\n",
        "        for user in self.users:\n",
        "            st.write(user.display_decrypted())\n",
        "\n",
        "    def update_user(self, index, name=None, age=None, gender=None, work=None):\n",
        "        if 0 <= index < len(self.users):\n",
        "            user = self.users[index]\n",
        "            if name:\n",
        "                user.name = user.encrypt(name)\n",
        "            if age:\n",
        "                user.age = user.encrypt(str(age))\n",
        "            if gender:\n",
        "                user.gender = user.encrypt(gender)\n",
        "            if work:\n",
        "                user.work = user.encrypt(work)\n",
        "        else:\n",
        "            st.write(\"Invalid index.\")\n",
        "\n",
        "    def delete_user(self, index):\n",
        "        if 0 <= index < len(self.users):\n",
        "            del self.users[index]\n",
        "        else:\n",
        "            st.write(\"Invalid index.\")\n",
        "\n",
        "st.title(\"CRUD System\")\n",
        "\n",
        "\n",
        "shift = st.number_input(\"Enter Caesar Cipher Shift:\", min_value=0, step=1, value=3)\n",
        "\n",
        "\n",
        "crud_system = CRUDSystem(shift=shift)\n",
        "\n",
        "\n",
        "st.header(\"Create User\")\n",
        "name = st.text_input(\"Name:\")\n",
        "age = st.number_input(\"Age:\", min_value=0, step=1)\n",
        "gender = st.text_input(\"Gender:\")\n",
        "work = st.text_input(\"Work:\")\n",
        "if st.button(\"Create User\"):\n",
        "    crud_system.create_user(name, age, gender, work)\n",
        "    st.success(\"User created successfully.\")\n",
        "\n",
        "\n",
        "st.header(\"Read Users\")\n",
        "if st.button(\"Read Users\"):\n",
        "    crud_system.read_users()\n",
        "\n",
        "\n",
        "st.header(\"Update User\")\n",
        "index = st.number_input(\"Index:\", min_value=0, step=1)\n",
        "name = st.text_input(\"New Name (optional):\")\n",
        "age = st.number_input(\"New Age (optional):\", min_value=0, step=1)\n",
        "gender = st.text_input(\"New Gender (optional):\")\n",
        "work = st.text_input(\"New Work (optional):\")\n",
        "if st.button(\"Update User\"):\n",
        "    crud_system.update_user(index, name, age, gender, work)\n",
        "    st.success(\"User updated successfully.\")"
      ]
    },
    {
      "cell_type": "code",
      "execution_count": null,
      "metadata": {
        "colab": {
          "base_uri": "https://localhost:8080/"
        },
        "id": "uU0xeFv5zZTG",
        "outputId": "7a543e7c-2022-4ce2-f180-7f663b53dd12"
      },
      "outputs": [
        {
          "name": "stdout",
          "output_type": "stream",
          "text": [
            "\u001b[K\u001b[?25h\n",
            "up to date, audited 23 packages in 700ms\n",
            "\n",
            "3 packages are looking for funding\n",
            "  run `npm fund` for details\n",
            "\n",
            "2 \u001b[33m\u001b[1mmoderate\u001b[22m\u001b[39m severity vulnerabilities\n",
            "\n",
            "To address all issues (including breaking changes), run:\n",
            "  npm audit fix --force\n",
            "\n",
            "Run `npm audit` for details.\n"
          ]
        }
      ],
      "source": [
        "!npm install localtunnel"
      ]
    },
    {
      "cell_type": "code",
      "execution_count": null,
      "metadata": {
        "id": "DvoYqGSZzc0l"
      },
      "outputs": [],
      "source": [
        "!streamlit run /content/app.py &>/content/logs.txt &"
      ]
    },
    {
      "cell_type": "code",
      "execution_count": null,
      "metadata": {
        "colab": {
          "base_uri": "https://localhost:8080/"
        },
        "id": "pMbWG94e0lZm",
        "outputId": "1b62adda-7cb0-414c-9243-fdce78321bfa"
      },
      "outputs": [
        {
          "name": "stdout",
          "output_type": "stream",
          "text": [
            "Password/Enpoint IP for localtunnel is: 104.197.171.112\n"
          ]
        }
      ],
      "source": [
        "import urllib\n",
        "print(\"Password/Enpoint IP for localtunnel is:\",urllib.request.urlopen('https://ipv4.icanhazip.com').read().decode('utf8').strip(\"\\n\"))"
      ]
    },
    {
      "cell_type": "code",
      "execution_count": null,
      "metadata": {
        "colab": {
          "background_save": true,
          "base_uri": "https://localhost:8080/"
        },
        "id": "BZh_G-vnztAl",
        "outputId": "5e190e02-1a3e-447c-daac-72cb765a8886"
      },
      "outputs": [
        {
          "name": "stdout",
          "output_type": "stream",
          "text": [
            "your url is: https://cool-pans-lose.loca.lt\n"
          ]
        }
      ],
      "source": [
        "!npx localtunnel --port 8501"
      ]
    },
    {
      "cell_type": "code",
      "execution_count": null,
      "metadata": {
        "colab": {
          "base_uri": "https://localhost:8080/"
        },
        "id": "D7hn_2fyaBmm",
        "outputId": "87442cf1-2833-436a-cc20-d9d6fc00dcb6"
      },
      "outputs": [
        {
          "name": "stdout",
          "output_type": "stream",
          "text": [
            "User Alice created successfully.\n",
            "User Bob created successfully.\n",
            "Name: Alice, Age: 30, Work: Doctora, Gender: Mujer\n",
            "Name: Bob, Age: 25, Work: Ingeniero, Gender: Hombre\n",
            "User at index 0 updated successfully.\n",
            "Name: Alice, Age: 31, Work: Doctora, Gender: Mujer\n",
            "Name: Bob, Age: 25, Work: Ingeniero, Gender: Hombre\n",
            "User at index 1 deleted successfully.\n",
            "Name: Alice, Age: 31, Work: Doctora, Gender: Mujer\n"
          ]
        }
      ],
      "source": [
        "\n",
        "class User:\n",
        "    def __init__(self, name, age, shift, gender, work):\n",
        "\n",
        "\n",
        "        self.shift = shift\n",
        "        self.gender = self.encrypt(gender)\n",
        "        self.work = self.encrypt(work)\n",
        "        self.name = self.encrypt(name)\n",
        "        self.age = self.encrypt(str(age))\n",
        "\n",
        "    def encrypt(self, text):\n",
        "        encrypted = ''\n",
        "        for char in text:\n",
        "            if char.isalpha():\n",
        "                shift = self.shift\n",
        "                if char.islower():\n",
        "                    encrypted += chr((ord(char) - 97 + shift) % 26 + 97)\n",
        "                else:\n",
        "                    encrypted += chr((ord(char) - 65 + shift) % 26 + 65)\n",
        "            elif char.isdigit():\n",
        "                encrypted += chr((ord(char) - 48 + self.shift) % 10 + 48)\n",
        "            else:\n",
        "                encrypted += char\n",
        "        return encrypted\n",
        "\n",
        "    def decrypt(self, text):\n",
        "        decrypted = ''\n",
        "        for char in text:\n",
        "            if char.isalpha():\n",
        "                shift = self.shift\n",
        "                if char.islower():\n",
        "                    decrypted += chr((ord(char) - 97 - shift) % 26 + 97)\n",
        "                else:\n",
        "                    decrypted += chr((ord(char) - 65 - shift) % 26 + 65)\n",
        "            elif char.isdigit():\n",
        "                decrypted += chr((ord(char) - 48 - self.shift) % 10 + 48)\n",
        "            else:\n",
        "                decrypted += char\n",
        "        return decrypted\n",
        "\n",
        "    def display_decrypted(self):\n",
        "        return f\"Name: {self.decrypt(self.name)}, Age: {self.decrypt(self.age)}, Work: {self.decrypt(self.work)}, Gender: {self.decrypt(self.gender)}\"\n",
        "\n",
        "\n",
        "\n",
        "class CRUDSystem:\n",
        "    def __init__(self, shift):\n",
        "        self.users = []\n",
        "        self.shift = shift\n",
        "\n",
        "    def create_user(self, name, age, gender, work):\n",
        "        user = User(name, age, self.shift, gender, work)\n",
        "        self.users.append(user)\n",
        "        print(f\"User {name} created successfully.\")\n",
        "\n",
        "    def read_users(self):\n",
        "        for user in self.users:\n",
        "            print(user.display_decrypted())\n",
        "\n",
        "    def update_user(self, index, name=None, age=None, gender=None, work=None):\n",
        "        if 0 <= index < len(self.users):\n",
        "            user = self.users[index]\n",
        "            if name:\n",
        "                user.name = user.encrypt(name)\n",
        "            if age:\n",
        "                user.age = user.encrypt(str(age))\n",
        "            if gender:\n",
        "                user.gender = user.encrypt(gender)\n",
        "            if work:\n",
        "                user.work = user.encrypt(work)\n",
        "            print(f\"User at index {index} updated successfully.\")\n",
        "        else:\n",
        "            print(\"Invalid index.\")\n",
        "\n",
        "    def delete_user(self, index):\n",
        "        if 0 <= index < len(self.users):\n",
        "            del self.users[index]\n",
        "            print(f\"User at index {index} deleted successfully.\")\n",
        "        else:\n",
        "            print(\"Invalid index.\")\n",
        "\n",
        "\n",
        "crud_system = CRUDSystem(shift=3)\n",
        "crud_system.create_user(\"Alice\", 30, \"woman\", \"nurse\")\n",
        "crud_system.create_user(\"Bob\", 25, \"men\", \"enginer\")\n",
        "crud_system.read_users()\n",
        "\n",
        "crud_system.update_user(0, age=31)\n",
        "crud_system.read_users()\n",
        "\n",
        "crud_system.delete_user(1)\n",
        "crud_system.read_users()"
      ]
    }
  ],
  "metadata": {
    "colab": {
      "provenance": [],
      "include_colab_link": true
    },
    "kernelspec": {
      "display_name": "Python 3",
      "name": "python3"
    },
    "language_info": {
      "name": "python"
    }
  },
  "nbformat": 4,
  "nbformat_minor": 0
}